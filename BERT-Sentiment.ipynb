{
 "cells": [
  {
   "cell_type": "code",
   "execution_count": null,
   "id": "02e8386f",
   "metadata": {},
   "outputs": [],
   "source": [
    "from transformers import pipeline\n",
    "\n",
    "tweets = [\n",
    "    \"I love this movie!\",\n",
    "    \"This restaurant has terrible service.\",\n",
    "    \"I can't wait to go on vacation.\",\n",
    "    \"The new iPhone is amazing.\",\n",
    "    \"This traffic is the worst.\",\n",
    "    \"I had a great time at the party last night.\",\n",
    "    \"This book is so boring.\",\n",
    "    \"I'm so excited for the concert tomorrow.\",\n",
    "    \"I'm really disappointed with the service at this hotel.\",\n",
    "    \"I hate doing chores.\",\n",
    "]\n",
    "\n",
    "\n",
    "# Create a sentiment analysis pipeline using the pre-trained BERT model\n",
    "sentiment_pipeline = pipeline(\"sentiment-analysis\", model=\"nlptown/bert-base-multilingual-uncased-sentiment\")\n",
    "\n",
    "# Analyze the sentiment of each tweet\n",
    "sentiment_scores = sentiment_pipeline(tweets, truncation=True, padding=True)\n",
    "\n",
    "print(sentiment_scores)"
   ]
  },
  {
   "cell_type": "code",
   "execution_count": null,
   "id": "23a250df",
   "metadata": {},
   "outputs": [],
   "source": []
  }
 ],
 "metadata": {
  "kernelspec": {
   "display_name": "Python 3 (ipykernel)",
   "language": "python",
   "name": "python3"
  },
  "language_info": {
   "codemirror_mode": {
    "name": "ipython",
    "version": 3
   },
   "file_extension": ".py",
   "mimetype": "text/x-python",
   "name": "python",
   "nbconvert_exporter": "python",
   "pygments_lexer": "ipython3",
   "version": "3.9.5"
  }
 },
 "nbformat": 4,
 "nbformat_minor": 5
}
