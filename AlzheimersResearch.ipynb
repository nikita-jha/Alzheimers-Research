{
 "cells": [
  {
   "cell_type": "code",
   "execution_count": 8,
   "id": "c79524b0",
   "metadata": {},
   "outputs": [],
   "source": [
    "import tweepy\n",
    "from twitter_authentication import bearer_token\n",
    "import time\n",
    "import pandas as pd\n",
    "import json\n",
    "import pickle"
   ]
  },
  {
   "cell_type": "code",
   "execution_count": 9,
   "id": "3747426b",
   "metadata": {},
   "outputs": [],
   "source": [
    "def json_load(filepath):\n",
    "    with open(filepath, \"r\") as json_file:\n",
    "        data = json.load(json_file)\n",
    "    return data\n",
    "\n",
    "def json_dump(data, filepath, pretty_format = True):\n",
    "    with open(filepath, 'w') as fw:\n",
    "        if pretty_format:\n",
    "            json.dump(data, fw, indent=2, sort_keys=True)\n",
    "        else:\n",
    "            json.dump(data, fw)\n",
    "\n",
    "def pickle_dump(obj, pickle_filepath):\n",
    "    with open(pickle_filepath, \"wb\") as f:\n",
    "        pickle.dump(obj, f, protocol=2)\n",
    "\n",
    "def pickle_load(pickle_filepath):\n",
    "    with open(pickle_filepath, \"rb\") as f:\n",
    "        obj = pickle.load(f)\n",
    "    return obj"
   ]
  },
  {
   "cell_type": "code",
   "execution_count": 10,
   "id": "c6a20626",
   "metadata": {},
   "outputs": [],
   "source": [
    "client = tweepy.Client(bearer_token, wait_on_rate_limit=True)"
   ]
  },
  {
   "cell_type": "code",
   "execution_count": 11,
   "id": "a8f3fe0b",
   "metadata": {},
   "outputs": [],
   "source": [
    "alz_tweets = []\n",
    "for tweet in tweepy.Paginator(client.search_all_tweets, \n",
    "                                 query = 'alzheimers disease -is:retweet place_country:US',\n",
    "                                 user_fields = ['username', 'public_metrics', 'description', 'location'],\n",
    "                                 place_fields = ['place_type', 'geo'],\n",
    "                                 tweet_fields = ['created_at', 'geo', 'public_metrics', 'text'],\n",
    "                                 expansions = ['author_id', 'geo.place_id'],\n",
    "                                 start_time = '2018-01-01T00:00:00Z',\n",
    "                                 end_time = '2018-12-31T00:00:00Z',\n",
    "                              max_results=500):\n",
    "    time.sleep(1)\n",
    "    alz_tweets.append(tweet)"
   ]
  },
  {
   "cell_type": "code",
   "execution_count": 12,
   "id": "ce94f8f0",
   "metadata": {},
   "outputs": [
    {
     "data": {
      "text/plain": [
       "dict_keys(['users', 'places'])"
      ]
     },
     "execution_count": 12,
     "metadata": {},
     "output_type": "execute_result"
    }
   ],
   "source": [
    "response = alz_tweets[0]\n",
    "response.includes.keys()"
   ]
  },
  {
   "cell_type": "code",
   "execution_count": null,
   "id": "c645a2f1",
   "metadata": {},
   "outputs": [],
   "source": [
    "#response.data"
   ]
  },
  {
   "cell_type": "code",
   "execution_count": 23,
   "id": "7fee094b",
   "metadata": {},
   "outputs": [],
   "source": [
    "place_keys= [\"full_name\", 'id', 'contained_within', 'country', 'country_code', 'geo', 'name', 'place_type' ]\n",
    "place_dict = {}\n",
    "user_keys= ['id', 'name', 'username', 'created_at', \n",
    "            'description', \"entities\", 'location', 'pinned_tweet_id', \n",
    "            'profile_image_url', 'protected', 'public_metrics', 'url', 'verified', 'withheld']\n",
    "user_dict = {}\n",
    "# Loop through each response object\n",
    "for response in alz_tweets:\n",
    "    # Take all of the users, and put them into a dictionary of dictionaries with the info we want to keep\n",
    "    for place in response.includes['places']:\n",
    "        place_obj = {}\n",
    "        for key in place_keys:\n",
    "            place_obj[key] = place[key]\n",
    "        place_dict[place_obj['id']] = place_obj\n",
    "    for user in response.includes['users']:\n",
    "        user_obj = {}\n",
    "        for key in user_keys:\n",
    "            user_obj[key] = user[key]\n",
    "        user_dict[user_obj['id']] = user_obj"
   ]
  },
  {
   "cell_type": "code",
   "execution_count": 51,
   "id": "514cc112",
   "metadata": {},
   "outputs": [],
   "source": [
    "json_dump(place_dict, filepath = \"place.json\")"
   ]
  },
  {
   "cell_type": "code",
   "execution_count": 52,
   "id": "a6453421",
   "metadata": {},
   "outputs": [],
   "source": [
    "json_dump(user_dict, filepath = \"user.json\")"
   ]
  },
  {
   "cell_type": "code",
   "execution_count": 48,
   "id": "b4355d46",
   "metadata": {},
   "outputs": [],
   "source": [
    "tweet_keys = ['id', 'text', 'author_id', 'context_annotations',\n",
    "             'conversation_id', 'entities', 'in_reply_to_user_id', 'lang',\n",
    "             'non_public_metrics', 'organic_metrics', 'possibly_sensitive',\n",
    "             'promoted_metrics', 'public_metrics', 'referenced_tweets', 'reply_settings',\n",
    "             'source', 'withheld']\n",
    "tweet_dict = {}\n",
    "for tweet in response.data:\n",
    "    tweet_obj = {}\n",
    "    for key in tweet_keys:\n",
    "        tweet_obj[key] = getattr(tweet, key)\n",
    "    tweet_dict[tweet_obj['id']] = tweet_obj"
   ]
  },
  {
   "cell_type": "code",
   "execution_count": 50,
   "id": "0a58017b",
   "metadata": {},
   "outputs": [],
   "source": [
    "json_dump(tweet_dict, filepath = \"tweet.json\")"
   ]
  },
  {
   "cell_type": "code",
   "execution_count": 55,
   "id": "c6a5f21d",
   "metadata": {},
   "outputs": [],
   "source": [
    "#Place Attributes\n",
    "place_keys= [\"full_name\", 'id', 'contained_within', 'country', 'country_code', 'geo', 'name', 'place_type' ]\n",
    "place_dict = {}\n",
    "#User Attributes\n",
    "user_keys= ['id', 'name', 'username', 'created_at', \n",
    "            'description', \"entities\", 'location', 'pinned_tweet_id', \n",
    "            'profile_image_url', 'protected', 'public_metrics', 'url', 'verified', 'withheld']\n",
    "user_dict = {}\n",
    "#Tweet Attributes\n",
    "tweet_keys = ['id', 'text', 'author_id', 'context_annotations',\n",
    "             'conversation_id', 'entities', 'in_reply_to_user_id', 'lang',\n",
    "             'non_public_metrics', 'organic_metrics', 'possibly_sensitive',\n",
    "             'promoted_metrics', 'public_metrics', 'referenced_tweets', 'reply_settings',\n",
    "             'source', 'withheld']\n",
    "tweet_dict = {}\n",
    "full_list=[]\n",
    "\n",
    "for response in alz_tweets: \n",
    "    for place in response.includes['places']:\n",
    "        place_obj = {}\n",
    "        for key in place_keys:\n",
    "            place_obj[key] = place[key]\n",
    "        place_dict[place_obj['id']] = place_obj\n",
    "    for user in response.includes['users']:\n",
    "        user_obj = {}\n",
    "        for key in user_keys:\n",
    "            user_obj[key] = user[key]\n",
    "        user_dict[user_obj['id']] = user_obj\n",
    "    for tweet in response.data:\n",
    "        tweet_obj = {}\n",
    "        for key in tweet_keys:\n",
    "            tweet_obj[key] = getattr(tweet, key)\n",
    "        tweet_dict[tweet_obj['id']] = tweet_obj\n",
    "    full_list.append(place_obj)\n",
    "    full_list.append(user_obj)\n",
    "    full_list.append(tweet_obj)\n",
    "    \n",
    "        \n",
    "    "
   ]
  },
  {
   "cell_type": "code",
   "execution_count": 56,
   "id": "d22b0eda",
   "metadata": {},
   "outputs": [
    {
     "data": {
      "text/plain": [
       "[{'full_name': 'San Marcos, CA',\n",
       "  'id': 'a2c84129f9dcf69f',\n",
       "  'contained_within': [],\n",
       "  'country': None,\n",
       "  'country_code': None,\n",
       "  'geo': {'type': 'Feature',\n",
       "   'bbox': [-117.2301723, 33.0907611, -117.103461, 33.186722],\n",
       "   'properties': {}},\n",
       "  'name': None,\n",
       "  'place_type': 'city'},\n",
       " {'id': 857761126305730560,\n",
       "  'name': 'Amanda Brandeis',\n",
       "  'username': 'amanda_brandeis',\n",
       "  'created_at': None,\n",
       "  'description': 'Visual Storyteller + Emmy Award Winning Journalist',\n",
       "  'entities': None,\n",
       "  'location': 'San Diego, CA',\n",
       "  'pinned_tweet_id': None,\n",
       "  'profile_image_url': None,\n",
       "  'protected': None,\n",
       "  'public_metrics': {'followers_count': 1081,\n",
       "   'following_count': 530,\n",
       "   'tweet_count': 1005,\n",
       "   'listed_count': 21},\n",
       "  'url': None,\n",
       "  'verified': None,\n",
       "  'withheld': None},\n",
       " {'id': 981209400751874048,\n",
       "  'text': 'Advocate fights Alzheimer’s disease for all those struggling – Alzheimer’s – Optimum Senior Care – Chicago In Home Care - #Inhomecare #Chicago #Illinois #Elderly #Care #Services #Home #Health #Senior #LiveIn #Caregivers #Alzheimers https://t.co/gCfD26mfel',\n",
       "  'author_id': 211973856,\n",
       "  'context_annotations': [],\n",
       "  'conversation_id': None,\n",
       "  'entities': None,\n",
       "  'in_reply_to_user_id': None,\n",
       "  'lang': None,\n",
       "  'non_public_metrics': None,\n",
       "  'organic_metrics': None,\n",
       "  'possibly_sensitive': None,\n",
       "  'promoted_metrics': None,\n",
       "  'public_metrics': {'retweet_count': 0,\n",
       "   'reply_count': 0,\n",
       "   'like_count': 0,\n",
       "   'quote_count': 0,\n",
       "   'impression_count': 0},\n",
       "  'referenced_tweets': None,\n",
       "  'reply_settings': None,\n",
       "  'source': None,\n",
       "  'withheld': None},\n",
       " {'full_name': 'Vincennes, IN',\n",
       "  'id': 'bfadcb4bfcf83cef',\n",
       "  'contained_within': [],\n",
       "  'country': None,\n",
       "  'country_code': None,\n",
       "  'geo': {'type': 'Feature',\n",
       "   'bbox': [-87.547173, 38.625181, -87.433471, 38.736046],\n",
       "   'properties': {}},\n",
       "  'name': None,\n",
       "  'place_type': 'city'},\n",
       " {'id': 707969058499473408,\n",
       "  'name': 'EKP',\n",
       "  'username': 'The_Eric_Peters',\n",
       "  'created_at': None,\n",
       "  'description': 'RBV & Miller Stan account',\n",
       "  'entities': None,\n",
       "  'location': 'Vincennes, IN',\n",
       "  'pinned_tweet_id': None,\n",
       "  'profile_image_url': None,\n",
       "  'protected': None,\n",
       "  'public_metrics': {'followers_count': 242,\n",
       "   'following_count': 71,\n",
       "   'tweet_count': 1692,\n",
       "   'listed_count': 2},\n",
       "  'url': None,\n",
       "  'verified': None,\n",
       "  'withheld': None},\n",
       " {'id': 947865213335998464,\n",
       "  'text': 'Alzheimers disease is literally the worst thing on the planet',\n",
       "  'author_id': 707969058499473408,\n",
       "  'context_annotations': [],\n",
       "  'conversation_id': None,\n",
       "  'entities': None,\n",
       "  'in_reply_to_user_id': None,\n",
       "  'lang': None,\n",
       "  'non_public_metrics': None,\n",
       "  'organic_metrics': None,\n",
       "  'possibly_sensitive': None,\n",
       "  'promoted_metrics': None,\n",
       "  'public_metrics': {'retweet_count': 0,\n",
       "   'reply_count': 0,\n",
       "   'like_count': 12,\n",
       "   'quote_count': 0,\n",
       "   'impression_count': 0},\n",
       "  'referenced_tweets': None,\n",
       "  'reply_settings': None,\n",
       "  'source': None,\n",
       "  'withheld': None}]"
      ]
     },
     "execution_count": 56,
     "metadata": {},
     "output_type": "execute_result"
    }
   ],
   "source": [
    "full_list"
   ]
  },
  {
   "cell_type": "code",
   "execution_count": null,
   "id": "702e6031",
   "metadata": {},
   "outputs": [],
   "source": []
  }
 ],
 "metadata": {
  "kernelspec": {
   "display_name": "Python 3 (ipykernel)",
   "language": "python",
   "name": "python3"
  },
  "language_info": {
   "codemirror_mode": {
    "name": "ipython",
    "version": 3
   },
   "file_extension": ".py",
   "mimetype": "text/x-python",
   "name": "python",
   "nbconvert_exporter": "python",
   "pygments_lexer": "ipython3",
   "version": "3.9.5"
  }
 },
 "nbformat": 4,
 "nbformat_minor": 5
}
